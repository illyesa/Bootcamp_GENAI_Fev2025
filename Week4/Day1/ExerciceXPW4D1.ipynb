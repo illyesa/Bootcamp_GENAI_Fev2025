{
 "cells": [
  {
   "cell_type": "code",
   "execution_count": null,
   "metadata": {},
   "outputs": [],
   "source": [
    "\"\"\"\n",
    "Le Machine Learning traditionnel repose sur des modèles nécessitant une ingénierie des caractéristiques explicite, alors que le Deep Learning utilise des réseaux neuronaux capables d'extraire automatiquement des caractéristiques à partir des données brutes\n",
    "\n",
    "Les ANNs sont inspirés des neurones biologiques. Chaque neurone artificiel reçoit des entrées, applique des poids, passe par une fonction d'activation et transmet la sortie à d'autres neurones, simulant ainsi les connexions neuronales du cerveau humain\n",
    "\n",
    "Le Deep Learning repose sur des réseaux neuronaux profonds avec de nombreux paramètres. Ces modèles nécessitent une grande quantité de données et généraliser efficacement\n",
    "\n",
    "Besoin d'un grand volume de données, coùt élever du au nombre de calcule (utilisation GPU et TPU)\n",
    "\n",
    "Contrairement au ML traditionnel, le DL extrait automatiquement les caractéristiques à travers les couches de neurones, éliminant ainsi la nécessité d'un travail manuel d'ingénierie\n",
    "\n",
    "Elles permettent au réseau d'apprendre des représentations complexes et abstraites des données d'entrée et d'améliorer la capacité du modèle à capturer des relations complexes\n",
    "\n",
    "Elle introduit de la non-linéarité, permettant au réseau de modéliser des relations complexes et de généraliser à de nouveaux exemples\n",
    "\n",
    "\"\"\""
   ]
  },
  {
   "cell_type": "code",
   "execution_count": null,
   "metadata": {},
   "outputs": [
    {
     "name": "stdout",
     "output_type": "stream",
     "text": [
      "Case 1 Decision: Go Outside\n",
      "Case 2 Decision: Go Outside\n"
     ]
    }
   ],
   "source": [
    "def perceptron_decision(temperature, rain):\n",
    "    weight_temp = 0.6\n",
    "    weight_rain = 0.4\n",
    "    bias = 2\n",
    "    weighted_sum = (temperature * weight_temp) + (rain * weight_rain) + bias\n",
    "    decision = 1 if weighted_sum > 20 else 0\n",
    "\n",
    "    return decision\n",
    "\n",
    "# Cas 1 : Temperature = 70°F, Rain = 0 (NO)\n",
    "case1 = perceptron_decision(70, 0)\n",
    "print(\"Case 1 Decision:\", \"Go Outside\" if case1 == 1 else \"Stay Inside\")\n",
    "\n",
    "# Cas 2 : Temperature = 50°F, Rain = 1 (YES)\n",
    "case2 = perceptron_decision(50, 1)\n",
    "print(\"Case 2 Decision:\", \"Go Outside\" if case2 == 1 else \"Stay Inside\")"
   ]
  },
  {
   "cell_type": "code",
   "execution_count": null,
   "metadata": {},
   "outputs": [
    {
     "data": {
      "image/png": "[encoded data removed]",
      "text/plain": [
       "<Figure size 864x288 with 3 Axes>"
      ]
     },
     "metadata": {
      "needs_background": "light"
     },
     "output_type": "display_data"
    }
   ],
   "source": [
    "import numpy as np\n",
    "import matplotlib.pyplot as plt\n",
    "\n",
    "def step_function(x):\n",
    "    return np.where(x > 0, 1, 0)\n",
    "\n",
    "def sigmoid_function(x):\n",
    "    return 1 / (1 + np.exp(-x))\n",
    "\n",
    "def relu_function(x):\n",
    "    return np.maximum(0, x)\n",
    "\n",
    "x_values = np.linspace(-10, 10, 100)\n",
    "\n",
    "plt.figure(figsize=(12, 4))\n",
    "\n",
    "# Step Function Plot\n",
    "plt.subplot(1, 3, 1)\n",
    "plt.plot(x_values, step_function(x_values), label=\"Step Function\", color='blue')\n",
    "plt.title(\"Step Function\")\n",
    "plt.grid(True)\n",
    "\n",
    "# Sigmoid Function Plot\n",
    "plt.subplot(1, 3, 2)\n",
    "plt.plot(x_values, sigmoid_function(x_values), label=\"Sigmoid Function\", color='red')\n",
    "plt.title(\"Sigmoid Function\")\n",
    "plt.grid(True)\n",
    "\n",
    "# ReLU Function Plot\n",
    "plt.subplot(1, 3, 3)\n",
    "plt.plot(x_values, relu_function(x_values), label=\"ReLU Function\", color='green')\n",
    "plt.title(\"ReLU Function\")\n",
    "plt.grid(True)\n",
    "\n",
    "plt.show()\n"
   ]
  },
  {
   "cell_type": "code",
   "execution_count": null,
   "metadata": {},
   "outputs": [
    {
     "name": "stdout",
     "output_type": "stream",
     "text": [
      "Predicted House Price: 51002.1\n"
     ]
    }
   ],
   "source": [
    "def forward_propagation(x1, x2, w1, w2, b):\n",
    "    z = (x1 * w1) + (x2 * w2) + b\n",
    "    output = max(0, z)\n",
    "    return output\n",
    "\n",
    "x1 = 2000\n",
    "x2 = 3\n",
    "\n",
    "w1 = 0.5\n",
    "w2 = 0.7\n",
    "b = 50000\n",
    "\n",
    "predicted_price = forward_propagation(x1, x2, w1, w2, b)\n",
    "print(\"Predicted House Price:\", predicted_price)\n"
   ]
  },
  {
   "cell_type": "code",
   "execution_count": null,
   "metadata": {},
   "outputs": [
    {
     "name": "stdout",
     "output_type": "stream",
     "text": [
      "Initial Prediction: 36.4\n",
      "Loss: 1180.98\n",
      "Updated Weights: [ 2.544 39.18 ]\n",
      "Updated Bias: 10.486\n"
     ]
    }
   ],
   "source": [
    "import numpy as np\n",
    "\n",
    "# Initialize input data (features)\n",
    "x = np.array([4, 80])  # 4 hours studied, previous test score: 80\n",
    "\n",
    "# Initialize weights and bias\n",
    "w = np.array([0.6, 0.3])  # Initial weights\n",
    "b = 10  # Initial bias\n",
    "\n",
    "# Forward Propagation\n",
    "def forward_propagation(x, w, b):\n",
    "    z = np.dot(x, w) + b  # Weighted sum\n",
    "    return z  # Linear activation (No ReLU here, it's a regression task)\n",
    "\n",
    "# Compute prediction\n",
    "y_pred = forward_propagation(x, w, b)\n",
    "y_true = 85  # Actual exam score\n",
    "\n",
    "# Compute Loss (Mean Squared Error)\n",
    "loss = 0.5 * (y_true - y_pred) ** 2\n",
    "\n",
    "# Compute Gradients\n",
    "grad_w = -(y_true - y_pred) * x  # Partial derivatives with respect to weights\n",
    "grad_b = -(y_true - y_pred)  # Partial derivative with respect to bias\n",
    "\n",
    "# Update Weights and Bias\n",
    "learning_rate = 0.01\n",
    "w_new = w - learning_rate * grad_w\n",
    "b_new = b - learning_rate * grad_b\n",
    "\n",
    "# Print Results\n",
    "print(\"Initial Prediction:\", y_pred)\n",
    "print(\"Loss:\", loss)\n",
    "print(\"Updated Weights:\", w_new)\n",
    "print(\"Updated Bias:\", b_new)\n",
    "\n",
    "# L’algorithme de descente de gradient ajuste les poids et le biais dans la direction qui minimise la perte, améliorant ainsi la précision des prédictions au fil des itérations."
   ]
  }
 ],
 "metadata": {
  "kernelspec": {
   "display_name": "Python 3",
   "language": "python",
   "name": "python3"
  },
  "language_info": {
   "codemirror_mode": {
    "name": "ipython",
    "version": 3
   },
   "file_extension": ".py",
   "mimetype": "text/x-python",
   "name": "python",
   "nbconvert_exporter": "python",
   "pygments_lexer": "ipython3",
   "version": "3.7.4"
  }
 },
 "nbformat": 4,
 "nbformat_minor": 2
}
