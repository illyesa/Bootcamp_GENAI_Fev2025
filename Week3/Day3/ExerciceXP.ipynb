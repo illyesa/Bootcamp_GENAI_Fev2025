{
 "cells": [
  {
   "cell_type": "code",
   "execution_count": 2,
   "metadata": {},
   "outputs": [],
   "source": [
    "import numpy as np\n",
    "import matplotlib.pyplot as plt\n",
    "import scipy.stats as stats\n",
    "import scipy\n",
    "import pandas as pd"
   ]
  },
  {
   "cell_type": "code",
   "execution_count": 3,
   "metadata": {},
   "outputs": [
    {
     "name": "stdout",
     "output_type": "stream",
     "text": [
      "SciPy Version: 1.3.1\n"
     ]
    }
   ],
   "source": [
    "print(\"SciPy Version:\", scipy.__version__)"
   ]
  },
  {
   "cell_type": "code",
   "execution_count": 4,
   "metadata": {},
   "outputs": [
    {
     "name": "stdout",
     "output_type": "stream",
     "text": [
      "Mean: 16.625\n",
      "Median: 16.5\n",
      "Variance: 17.125\n",
      "Standard Deviation: 4.138236339311712\n"
     ]
    }
   ],
   "source": [
    "data = [12, 15, 13, 12, 18, 20, 22, 21]\n",
    "print(\"Mean:\", np.mean(data))\n",
    "print(\"Median:\", np.median(data))\n",
    "print(\"Variance:\", np.var(data, ddof=1))\n",
    "print(\"Standard Deviation:\", np.std(data, ddof=1))"
   ]
  },
  {
   "cell_type": "code",
   "execution_count": 10,
   "metadata": {},
   "outputs": [
    {
     "data": {
      "image/png": "[encoded data removed]",
      "text/plain": [
       "<Figure size 432x288 with 1 Axes>"
      ]
     },
     "metadata": {
      "needs_background": "light"
     },
     "output_type": "display_data"
    }
   ],
   "source": [
    "mean, std_dev = 50, 10\n",
    "distribution = np.random.normal(mean, std_dev, 1000)\n",
    "plt.hist(distribution, bins=30, density=True, alpha=0.6, color='g')\n",
    "x = np.linspace(20, 80, 100)\n",
    "a = stats.norm.pdf(x, mean, std_dev)\n",
    "plt.plot(x, a, 'k', linewidth=2)\n",
    "plt.title(\"Normal Distribution\")\n",
    "plt.show()"
   ]
  },
  {
   "cell_type": "code",
   "execution_count": 22,
   "metadata": {},
   "outputs": [
    {
     "name": "stdout",
     "output_type": "stream",
     "text": [
      "t-statistic: -7.157116100630114\n",
      "p-value: 1.5703420214436342e-11\n"
     ]
    }
   ],
   "source": [
    "data1 = np.random.normal(50, 10, 100)\n",
    "data2 = np.random.normal(60, 10, 100)\n",
    "t_stat, p_value = stats.ttest_ind(data1, data2)\n",
    "print(\"t-statistic:\", t_stat)\n",
    "print(\"p-value:\", p_value)\n",
    "\n",
    "# Oui, il y a une différence significative entre les groupes d’engrais.\n",
    "# si P-value >0.05 cela signifie que les engrais testés ont des performances similaires et aucun n’est clairement meilleur que les autres pour favoriser la croissance des plantes."
   ]
  },
  {
   "cell_type": "code",
   "execution_count": 15,
   "metadata": {},
   "outputs": [
    {
     "name": "stdout",
     "output_type": "stream",
     "text": [
      "Slope: 1828.77\n",
      "Intercept: 64383.56\n",
      "Predicted Price for 90 sqm: 228972.6\n"
     ]
    }
   ],
   "source": [
    "house_sizes = np.array([50, 70, 80, 100, 120])\n",
    "house_prices = np.array([150000, 200000, 210000, 250000, 280000])\n",
    "slope, intercept, r_value, p_value, std_err = stats.linregress(house_sizes, house_prices)\n",
    "print(\"Slope:\", round(slope,2))\n",
    "print(\"Intercept:\", round(intercept,2))\n",
    "predicted_price = slope * 90 + intercept\n",
    "print(\"Predicted Price for 90 sqm:\", round(predicted_price,2))"
   ]
  },
  {
   "cell_type": "code",
   "execution_count": 17,
   "metadata": {},
   "outputs": [
    {
     "name": "stdout",
     "output_type": "stream",
     "text": [
      "t-statistic: -7.905278762943494\n",
      "p-value: 2.7542672098048448e-05\n"
     ]
    }
   ],
   "source": [
    "fertilizer_1 = [5, 6, 7, 6, 5]\n",
    "fertilizer_2 = [7, 8, 7, 9, 8]\n",
    "fertilizer_3 = [4, 5, 4, 3, 4]\n",
    "f_stat, p_value = stats.f_oneway(fertilizer_1, fertilizer_2, fertilizer_3)\n",
    "print(\"t-statistic:\", t_stat)\n",
    "print(\"p-value:\", p_value)"
   ]
  },
  {
   "cell_type": "code",
   "execution_count": 18,
   "metadata": {},
   "outputs": [
    {
     "name": "stdout",
     "output_type": "stream",
     "text": [
      "Probability of getting exactly 5 heads in 10 flips: 0.24609375000000025\n"
     ]
    }
   ],
   "source": [
    "p_binom = stats.binom.pmf(5, 10, 0.5)\n",
    "print(\"Probability of getting exactly 5 heads in 10 flips:\", p_binom)"
   ]
  },
  {
   "cell_type": "code",
   "execution_count": 20,
   "metadata": {},
   "outputs": [
    {
     "name": "stdout",
     "output_type": "stream",
     "text": [
      "Pearson Correlation: 0.9996907452347202\n",
      "Spearman Correlation: 0.9999999999999999\n"
     ]
    }
   ],
   "source": [
    "data = pd.DataFrame({'age': [23, 25, 30, 35, 40], 'income': [35000, 40000, 50000, 60000, 70000]})\n",
    "pearson, _ = stats.pearsonr(data['age'], data['income'])\n",
    "spearman, _ = stats.spearmanr(data['age'], data['income'])\n",
    "print(\"Pearson Correlation:\", pearson)\n",
    "print(\"Spearman Correlation:\", spearman)"
   ]
  }
 ],
 "metadata": {
  "kernelspec": {
   "display_name": "Python 3",
   "language": "python",
   "name": "python3"
  },
  "language_info": {
   "codemirror_mode": {
    "name": "ipython",
    "version": 3
   },
   "file_extension": ".py",
   "mimetype": "text/x-python",
   "name": "python",
   "nbconvert_exporter": "python",
   "pygments_lexer": "ipython3",
   "version": "3.7.4"
  }
 },
 "nbformat": 4,
 "nbformat_minor": 2
}
