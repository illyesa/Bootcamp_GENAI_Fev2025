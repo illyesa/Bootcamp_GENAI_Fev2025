{
 "cells": [
  {
   "cell_type": "code",
   "execution_count": 1,
   "metadata": {},
   "outputs": [
    {
     "name": "stdout",
     "output_type": "stream",
     "text": [
      "Integral of x^2 from 0 to 1: 0.33333333333333337\n"
     ]
    }
   ],
   "source": [
    "import numpy as np\n",
    "from scipy import integrate\n",
    "\n",
    "# Define a simple function\n",
    "def integrand(x):\n",
    "    return x**2\n",
    "\n",
    "# Compute the integral of the function\n",
    "result, _ = integrate.quad(integrand, 0, 1)\n",
    "print(\"Integral of x^2 from 0 to 1:\", result)"
   ]
  },
  {
   "cell_type": "code",
   "execution_count": 3,
   "metadata": {},
   "outputs": [
    {
     "name": "stdout",
     "output_type": "stream",
     "text": [
      "NumPy - Mean: 0.5000935736745213, Std Dev: 0.28863713164988375, Time: 0.009971 sec\n"
     ]
    }
   ],
   "source": [
    "import numpy as np\n",
    "# import scipy.stats as stats\n",
    "import time\n",
    "\n",
    "size = 10**6\n",
    "random_array = np.random.rand(size)\n",
    "\n",
    "start_time = time.time()\n",
    "mean_numpy = np.mean(random_array)\n",
    "std_numpy = np.std(random_array)\n",
    "numpy_time = time.time() - start_time\n",
    "\n",
    "# start_time = time.time()\n",
    "# mean_scipy, std_scipy = stats.tmean(random_array), stats.tstd(random_array)\n",
    "# scipy_time = time.time() - start_time\n",
    "\n",
    "print(f\"NumPy - Mean: {mean_numpy}, Std Dev: {std_numpy}, Time: {numpy_time:.6f} sec\")\n",
    "# print(f\"SciPy - Mean: {mean_scipy}, Std Dev: {std_scipy}, Time: {scipy_time:.6f} sec\")"
   ]
  },
  {
   "cell_type": "code",
   "execution_count": 4,
   "metadata": {},
   "outputs": [
    {
     "name": "stdout",
     "output_type": "stream",
     "text": [
      "SciPy - Mean: 0.5000935736745213, Std Dev: 0.2886372759685578, Time: 0.013018 sec\n"
     ]
    }
   ],
   "source": [
    "import scipy.stats as stats\n",
    "import time\n",
    "\n",
    "start_time = time.time()\n",
    "mean_scipy, std_scipy = stats.tmean(random_array), stats.tstd(random_array)\n",
    "scipy_time = time.time() - start_time\n",
    "print(f\"SciPy - Mean: {mean_scipy}, Std Dev: {std_scipy}, Time: {scipy_time:.6f} sec\")\n"
   ]
  },
  {
   "cell_type": "code",
   "execution_count": 6,
   "metadata": {},
   "outputs": [
    {
     "name": "stdout",
     "output_type": "stream",
     "text": [
      "Mean Price: 100.60\n",
      "Median Price: 100.94\n",
      "Variance: 102.61\n",
      "Standard Deviation: 10.13\n"
     ]
    }
   ],
   "source": [
    "import pandas as pd\n",
    "import numpy as np\n",
    "\n",
    "np.random.seed(0) \n",
    "dates = pd.date_range(start='2023-01-01', periods=100)\n",
    "prices = np.random.normal(loc=100, scale=10, size=len(dates)) \n",
    "\n",
    "stock_data = pd.DataFrame({\n",
    "    'Date': dates,\n",
    "    'DVLPRS_Price': prices\n",
    "})\n",
    "\n",
    "price_array = stock_data['DVLPRS_Price'].values\n",
    "\n",
    "\n",
    "mean_price = np.mean(price_array)\n",
    "median_price = np.median(price_array)\n",
    "variance_price = np.var(price_array, ddof=1)\n",
    "std_dev_price = np.std(price_array, ddof=1) \n",
    "\n",
    "print(f\"Mean Price: {mean_price:.2f}\")\n",
    "print(f\"Median Price: {median_price:.2f}\")\n",
    "print(f\"Variance: {variance_price:.2f}\")\n",
    "print(f\"Standard Deviation: {std_dev_price:.2f}\")"
   ]
  }
 ],
 "metadata": {
  "kernelspec": {
   "display_name": "Python 3",
   "language": "python",
   "name": "python3"
  },
  "language_info": {
   "codemirror_mode": {
    "name": "ipython",
    "version": 3
   },
   "file_extension": ".py",
   "mimetype": "text/x-python",
   "name": "python",
   "nbconvert_exporter": "python",
   "pygments_lexer": "ipython3",
   "version": "3.7.4"
  }
 },
 "nbformat": 4,
 "nbformat_minor": 2
}
