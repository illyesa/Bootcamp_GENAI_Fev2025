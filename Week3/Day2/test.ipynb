{
 "cells": [
  {
   "cell_type": "code",
   "execution_count": 1,
   "metadata": {},
   "outputs": [
    {
     "name": "stdout",
     "output_type": "stream",
     "text": [
      "Matrix A:\n",
      " [[1 2]\n",
      " [3 4]]\n",
      "Reshaped Matrix:\n",
      " [[1]\n",
      " [2]\n",
      " [3]\n",
      " [4]]\n",
      "Updated Matrix A:\n",
      " [[5 2]\n",
      " [3 4]]\n"
     ]
    }
   ],
   "source": [
    "import numpy as np\n",
    "\n",
    "# Creating a matrix\n",
    "matrix_A = np.array([[1, 2], [3, 4]])\n",
    "print(\"Matrix A:\\n\", matrix_A)\n",
    "\n",
    "# Reshaping a matrix\n",
    "reshaped_matrix = np.reshape(matrix_A, (4, 1))\n",
    "print(\"Reshaped Matrix:\\n\", reshaped_matrix)\n",
    "\n",
    "# Changing values in a matrix\n",
    "matrix_A[0, 0] = 5\n",
    "print(\"Updated Matrix A:\\n\", matrix_A)"
   ]
  },
  {
   "cell_type": "code",
   "execution_count": 2,
   "metadata": {},
   "outputs": [
    {
     "name": "stdout",
     "output_type": "stream",
     "text": [
      "Average Responses: [3.8 1.4 2.4 3.8]\n",
      "Total Responses: [19  7 12 19]\n",
      "Maximum Responses: [5 2 4 5]\n",
      "Minimum Responses: [2 1 1 2]\n"
     ]
    }
   ],
   "source": [
    "import numpy as np\n",
    "\n",
    "# Example survey data matrix (5 respondents, 4 questions)\n",
    "survey_data = np.array([[5, 1, 4, 4],\n",
    "                        [4, 2, 4, 3],\n",
    "                        [5, 1, 1, 5],\n",
    "                        [3, 2, 1, 2],\n",
    "                        [2, 1, 2, 5]])\n",
    "\n",
    "# Calculating various statistics\n",
    "average_responses = np.mean(survey_data, axis=0)\n",
    "total_responses = np.sum(survey_data, axis=0)\n",
    "max_responses = np.max(survey_data, axis=0)\n",
    "min_responses = np.min(survey_data, axis=0)\n",
    "\n",
    "print(\"Average Responses:\", average_responses)\n",
    "print(\"Total Responses:\", total_responses)\n",
    "print(\"Maximum Responses:\", max_responses)\n",
    "print(\"Minimum Responses:\", min_responses)"
   ]
  },
  {
   "cell_type": "code",
   "execution_count": 6,
   "metadata": {},
   "outputs": [
    {
     "name": "stdout",
     "output_type": "stream",
     "text": [
      "[3.4 2.2 3.4]\n",
      "[1 1 3 3 1]\n"
     ]
    }
   ],
   "source": [
    "import numpy as np\n",
    "\n",
    "movie_ratings = np.array([\n",
    "    [5, 1, 4],\n",
    "    [4, 4, 2],\n",
    "    [4, 3, 5],\n",
    "    [1, 1, 5],\n",
    "    [3, 2, 1]\n",
    "])\n",
    "\n",
    "average_ratings = np.mean(movie_ratings, axis=0)\n",
    "viewer_preferences = np.argmax(movie_ratings, axis=1) + 1 \n",
    "\n",
    "print(average_ratings)\n",
    "print(viewer_preferences)\n"
   ]
  },
  {
   "cell_type": "code",
   "execution_count": null,
   "metadata": {},
   "outputs": [],
   "source": []
  },
  {
   "cell_type": "code",
   "execution_count": 7,
   "metadata": {},
   "outputs": [
    {
     "name": "stdout",
     "output_type": "stream",
     "text": [
      "Matrix A:\n",
      " [[1 2 3]\n",
      " [4 5 6]\n",
      " [7 8 9]]\n",
      "Matrix B:\n",
      " [[9 8 7]\n",
      " [6 5 4]\n",
      " [3 2 1]]\n",
      "Addition Result:\n",
      " [[10 10 10]\n",
      " [10 10 10]\n",
      " [10 10 10]]\n",
      "Subtraction Result:\n",
      " [[-8 -6 -4]\n",
      " [-2  0  2]\n",
      " [ 4  6  8]]\n"
     ]
    }
   ],
   "source": [
    "import numpy as np\n",
    "\n",
    "# Create two 3x3 matrices\n",
    "matrix_a = np.array([[1, 2, 3],\n",
    "                     [4, 5, 6],\n",
    "                     [7, 8, 9]])\n",
    "\n",
    "matrix_b = np.array([[9, 8, 7],\n",
    "                     [6, 5, 4],\n",
    "                     [3, 2, 1]])\n",
    "\n",
    "# Perform addition\n",
    "addition_result = np.add(matrix_a, matrix_b)\n",
    "\n",
    "# Perform subtraction\n",
    "subtraction_result = np.subtract(matrix_a, matrix_b)\n",
    "\n",
    "# Display the results\n",
    "print(\"Matrix A:\\n\", matrix_a)\n",
    "print(\"Matrix B:\\n\", matrix_b)\n",
    "print(\"Addition Result:\\n\", addition_result)\n",
    "print(\"Subtraction Result:\\n\", subtraction_result)"
   ]
  },
  {
   "cell_type": "code",
   "execution_count": null,
   "metadata": {},
   "outputs": [],
   "source": []
  },
  {
   "cell_type": "code",
   "execution_count": 8,
   "metadata": {},
   "outputs": [
    {
     "name": "stdout",
     "output_type": "stream",
     "text": [
      "Average Temperature for Each City:\n",
      " [20.85714286 20.14285714 22.42857143 23.14285714]\n",
      "Maximum Temperature for Each City:\n",
      " [27 24 27 29]\n",
      "Minimum Temperature for Each City:\n",
      " [15 17 16 16]\n",
      "Temperature Difference between Day 1 and Day 7 for Each City:\n",
      " [-5 -3 -1  6]\n"
     ]
    }
   ],
   "source": [
    "import numpy as np\n",
    "\n",
    "# Temperature data matrix (4 cities, 7 days)\n",
    "temperature_data = np.array([\n",
    "    [27, 20, 15, 18, 26, 18, 22],\n",
    "    [24, 18, 20, 17, 19, 22, 21],\n",
    "    [23, 23, 27, 25, 16, 21, 22],\n",
    "    [22, 29, 23, 16, 20, 24, 28]\n",
    "])\n",
    "\n",
    "# Task 1: Calculate average temperature for each city\n",
    "average_temperatures = np.mean(temperature_data, axis=1)\n",
    "\n",
    "# Task 2: Find the highest and lowest temperatures in each city\n",
    "max_temperatures = np.max(temperature_data, axis=1)\n",
    "min_temperatures = np.min(temperature_data, axis=1)\n",
    "\n",
    "# Task 3: Compare temperatures on the first and last day of the week\n",
    "day_comparison = temperature_data[:, 6] - temperature_data[:, 0]\n",
    "\n",
    "# Display the results\n",
    "print(\"Average Temperature for Each City:\\n\", average_temperatures)\n",
    "print(\"Maximum Temperature for Each City:\\n\", max_temperatures)\n",
    "print(\"Minimum Temperature for Each City:\\n\", min_temperatures)\n",
    "print(\"Temperature Difference between Day 1 and Day 7 for Each City:\\n\", day_comparison)"
   ]
  },
  {
   "cell_type": "code",
   "execution_count": null,
   "metadata": {},
   "outputs": [],
   "source": []
  },
  {
   "cell_type": "code",
   "execution_count": 9,
   "metadata": {},
   "outputs": [
    {
     "data": {
      "text/plain": [
       "<Figure size 640x480 with 1 Axes>"
      ]
     },
     "metadata": {},
     "output_type": "display_data"
    }
   ],
   "source": [
    "import numpy as np\n",
    "import matplotlib.pyplot as plt\n",
    "\n",
    "# Generate a normal distribution\n",
    "mean = 0\n",
    "std_dev = 1\n",
    "samples = np.random.normal(mean, std_dev, 1000)\n",
    "\n",
    "# Plotting the distribution\n",
    "plt.hist(samples, bins=30, density=True)\n",
    "plt.title(\"Normal Distribution\")\n",
    "plt.xlabel(\"Value\")\n",
    "plt.ylabel(\"Frequency\")\n",
    "plt.show()"
   ]
  },
  {
   "cell_type": "code",
   "execution_count": 10,
   "metadata": {},
   "outputs": [
    {
     "name": "stdout",
     "output_type": "stream",
     "text": [
      "Original Dataset: [44 47 64 67 67  9 83 21 36 87 70 88 88 12 58 65 39 87 46 88 81 37 25 77\n",
      " 72  9 20 80 69 79 47 64 82 99 88 49 29 19 19 14 39 32 65  9 57 32 31 74\n",
      " 23 35 75 55 28 34  0  0 36 53  5 38 17 79  4 42 58 31  1 65 41 57 35 11\n",
      " 46 82 91  0 14 99 53 12 42 84 75 68  6 68 47  3 76 52 78 15 20 99 58 23\n",
      " 79 13 85 48]\n",
      "Sampled Data: [65 91 79 23 88 11 46 34 87 21  9 83 87 46 12 14 19  1 47  0]\n",
      "Shuffled Data: [ 0 21 79 88 12 87 65 83 34 11 46 19 46 47  9  1 14 23 87 91]\n",
      "Mean: 48.23\n",
      "Median: 47.0\n",
      "Variance: 796.9371000000001\n",
      "Skewness: -0.03679365802939353\n",
      "Kurtosis: -1.1824940022625319\n"
     ]
    }
   ],
   "source": [
    "import numpy as np\n",
    "from scipy.stats import skew, kurtosis\n",
    "\n",
    "# Generate a random dataset\n",
    "np.random.seed(0)  # For reproducibility\n",
    "dataset = np.random.randint(0, 100, size=100)\n",
    "\n",
    "# Task 1: Random Sampling and Shuffling\n",
    "sampled_data = np.random.choice(dataset, size=20, replace=False)\n",
    "shuffled_data = np.random.permutation(sampled_data)\n",
    "\n",
    "# Task 2: Compute Descriptive Statistics\n",
    "mean_value = np.mean(dataset)\n",
    "median_value = np.median(dataset)\n",
    "variance_value = np.var(dataset)\n",
    "skewness_value = skew(dataset)\n",
    "kurtosis_value = kurtosis(dataset)\n",
    "\n",
    "# Display the results\n",
    "print(\"Original Dataset:\", dataset)\n",
    "print(\"Sampled Data:\", sampled_data)\n",
    "print(\"Shuffled Data:\", shuffled_data)\n",
    "print(\"Mean:\", mean_value)\n",
    "print(\"Median:\", median_value)\n",
    "print(\"Variance:\", variance_value)\n",
    "print(\"Skewness:\", skewness_value)\n",
    "print(\"Kurtosis:\", kurtosis_value)"
   ]
  }
 ],
 "metadata": {
  "kernelspec": {
   "display_name": "Python 3",
   "language": "python",
   "name": "python3"
  },
  "language_info": {
   "codemirror_mode": {
    "name": "ipython",
    "version": 3
   },
   "file_extension": ".py",
   "mimetype": "text/x-python",
   "name": "python",
   "nbconvert_exporter": "python",
   "pygments_lexer": "ipython3",
   "version": "3.7.4"
  }
 },
 "nbformat": 4,
 "nbformat_minor": 2
}
