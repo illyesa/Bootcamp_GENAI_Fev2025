{
 "cells": [
  {
   "cell_type": "code",
   "execution_count": 13,
   "metadata": {},
   "outputs": [],
   "source": [
    "import numpy as np\n",
    "import pandas as pd\n",
    "import matplotlib.pyplot as plt"
   ]
  },
  {
   "cell_type": "code",
   "execution_count": 23,
   "metadata": {},
   "outputs": [
    {
     "name": "stdout",
     "output_type": "stream",
     "text": [
      "Determinant: 17.999999999999996\n",
      "Inverse:\n",
      " [[ 0.38888889 -0.27777778  0.05555556]\n",
      " [ 0.05555556  0.38888889 -0.27777778]\n",
      " [-0.27777778  0.05555556  0.38888889]]\n"
     ]
    }
   ],
   "source": [
    "matrix = np.array([[3, 2, 1], [1, 3, 2], [2, 1, 3]])\n",
    "det_matrix = np.linalg.det(matrix)\n",
    "inv_matrix = np.linalg.inv(matrix)\n",
    "print(\"Determinant:\", det_matrix)\n",
    "print(\"Inverse:\\n\", inv_matrix)"
   ]
  },
  {
   "cell_type": "code",
   "execution_count": 3,
   "metadata": {},
   "outputs": [
    {
     "name": "stdout",
     "output_type": "stream",
     "text": [
      "Mean: 49.69330861106465\n",
      "Median: 46.85163371774151\n",
      "Standard Deviation: 29.161908512560284\n"
     ]
    }
   ],
   "source": [
    "data = np.random.rand(50) * 100\n",
    "print(\"Mean:\", np.mean(data))\n",
    "print(\"Median:\", np.median(data))\n",
    "print(\"Standard Deviation:\", np.std(data))"
   ]
  },
  {
   "cell_type": "code",
   "execution_count": 24,
   "metadata": {},
   "outputs": [
    {
     "name": "stdout",
     "output_type": "stream",
     "text": [
      "Formatted Dates: ['2023/01/01' '2023/01/02' '2023/01/03' '2023/01/04' '2023/01/05'\n",
      " '2023/01/06' '2023/01/07' '2023/01/08' '2023/01/09' '2023/01/10'\n",
      " '2023/01/11' '2023/01/12' '2023/01/13' '2023/01/14' '2023/01/15'\n",
      " '2023/01/16' '2023/01/17' '2023/01/18' '2023/01/19' '2023/01/20'\n",
      " '2023/01/21' '2023/01/22' '2023/01/23' '2023/01/24' '2023/01/25'\n",
      " '2023/01/26' '2023/01/27' '2023/01/28' '2023/01/29' '2023/01/30'\n",
      " '2023/01/31']\n"
     ]
    }
   ],
   "source": [
    "dates = np.array(np.arange(\"2023-01\", \"2023-02\", dtype=\"datetime64[D]\"))\n",
    "convert_dates = np.array([date.astype(str).replace('-', '/') for date in dates])\n",
    "print(\"Formatted Dates:\", convert_dates)"
   ]
  },
  {
   "cell_type": "code",
   "execution_count": 22,
   "metadata": {},
   "outputs": [
    {
     "name": "stdout",
     "output_type": "stream",
     "text": [
      "Dataframe:\n",
      "     A   B   C   D   E\n",
      "0  19  26  86  49  74\n",
      "1  47  31  20  38  22\n",
      "2  54  29  25  40   9\n",
      "3  92  21  43  51  31\n",
      "4  32  85  21  74  44\n",
      "5  57  43  69  14  43\n",
      "6  67  41  31  76  63\n",
      "7  11  57  48   6  32\n",
      "8  27  59  61  12  84\n",
      "9  12  52  41  49  21\n",
      "Conditional Selection:\n",
      "     A   B   C   D   E\n",
      "0  19  26  86  49  74\n",
      "1  47  31  20  38  22\n",
      "2  54  29  25  40   9\n",
      "3  92  21  43  51  31\n",
      "4  32  85  21  74  44\n",
      "5  57  43  69  14  43\n",
      "6  67  41  31  76  63\n",
      "7  11  57  48   6  32\n",
      "8  27  59  61  12  84\n",
      "9  12  52  41  49  21\n",
      "Sum:\n",
      " A    418\n",
      "B    444\n",
      "C    445\n",
      "D    409\n",
      "E    423\n",
      "dtype: int64\n",
      "Mean:\n",
      " A    41.8\n",
      "B    44.4\n",
      "C    44.5\n",
      "D    40.9\n",
      "E    42.3\n",
      "dtype: float64\n"
     ]
    }
   ],
   "source": [
    "data = {\n",
    "    'A': [np.random.randint(0, 100) for _ in range(10)],\n",
    "    'B': [np.random.randint(0, 100) for _ in range(10)],\n",
    "    'C': [np.random.randint(0, 100) for _ in range(10)],\n",
    "    'D': [np.random.randint(0, 100) for _ in range(10)],\n",
    "    'E': [np.random.randint(0, 100) for _ in range(10)]\n",
    "}\n",
    "df = pd.DataFrame(data)\n",
    "print(\"Dataframe:\\n\", df)\n",
    "print(\"Conditional Selection:\\n\", df[df > 0])\n",
    "print(\"Sum:\\n\", df.sum())\n",
    "print(\"Mean:\\n\", df.mean())"
   ]
  },
  {
   "cell_type": "code",
   "execution_count": 6,
   "metadata": {},
   "outputs": [
    {
     "name": "stdout",
     "output_type": "stream",
     "text": [
      "Grayscale Image:\n",
      " [[ 24  86 152  23  54]\n",
      " [128 163  85 209  60]\n",
      " [182  61 183  71 246]\n",
      " [100 158 144 170  96]\n",
      " [129 252  15 108 184]]\n"
     ]
    }
   ],
   "source": [
    "image = np.random.randint(0, 256, (5, 5), dtype=np.uint8)\n",
    "print(\"Grayscale Image:\\n\", image)"
   ]
  },
  {
   "cell_type": "code",
   "execution_count": null,
   "metadata": {},
   "outputs": [
    {
     "name": "stdout",
     "output_type": "stream",
     "text": [
      "Mean Difference: 5.232729600608991\n",
      "Standard Deviation of Difference: 2.6689625574562856\n",
      "t-statistic: -10.558076662307043\n",
      "p-value: 1.8980542955166247e-11\n"
     ]
    }
   ],
   "source": [
    "from scipy.stats import stats\n",
    "productivity_before = np.random.normal(loc=50, scale=10, size=30)\n",
    "productivity_after = productivity_before + np.random.normal(loc=5, scale=3, size=30)\n",
    "diff = productivity_after - productivity_before\n",
    "print(\"Mean Difference:\", np.mean(diff))\n",
    "print(\"Standard Deviation of Difference:\", np.std(diff))\n",
    "t_stat, p_value = stats.ttest_rel(productivity_before, productivity_after)\n",
    "print(\"t-statistic:\", t_stat)\n",
    "print(\"p-value:\", p_value)"
   ]
  },
  {
   "cell_type": "code",
   "execution_count": null,
   "metadata": {},
   "outputs": [
    {
     "name": "stdout",
     "output_type": "stream",
     "text": [
      "Array 1: [72 83 16 69  0  7 81 63 72 31]\n",
      "Array 2: [78  6 74 32 27 68 31 27 64 63]\n",
      "Comparison: [False  True False  True False False  True  True  True False]\n"
     ]
    }
   ],
   "source": [
    "array_1 = np.random.randint(0, 100, 10)\n",
    "array_2 = np.random.randint(0, 100, 10)\n",
    "comparison = array_1 > array_2\n",
    "print(\"Array 1:\", array_1)\n",
    "print(\"Array 2:\", array_2)\n",
    "print(\"Comparison:\", comparison)"
   ]
  },
  {
   "cell_type": "code",
   "execution_count": null,
   "metadata": {},
   "outputs": [
    {
     "name": "stdout",
     "output_type": "stream",
     "text": [
      "january_to_march: DatetimeIndex(['2023-01-01', '2023-01-02', '2023-01-03', '2023-01-04',\n",
      "               '2023-01-05', '2023-01-06', '2023-01-07', '2023-01-08',\n",
      "               '2023-01-09', '2023-01-10', '2023-01-11', '2023-01-12',\n",
      "               '2023-01-13', '2023-01-14', '2023-01-15', '2023-01-16',\n",
      "               '2023-01-17', '2023-01-18', '2023-01-19', '2023-01-20',\n",
      "               '2023-01-21', '2023-01-22', '2023-01-23', '2023-01-24',\n",
      "               '2023-01-25', '2023-01-26', '2023-01-27', '2023-01-28',\n",
      "               '2023-01-29', '2023-01-30', '2023-01-31', '2023-02-01',\n",
      "               '2023-02-02', '2023-02-03', '2023-02-04', '2023-02-05',\n",
      "               '2023-02-06', '2023-02-07', '2023-02-08', '2023-02-09',\n",
      "               '2023-02-10', '2023-02-11', '2023-02-12', '2023-02-13',\n",
      "               '2023-02-14', '2023-02-15', '2023-02-16', '2023-02-17',\n",
      "               '2023-02-18', '2023-02-19', '2023-02-20', '2023-02-21',\n",
      "               '2023-02-22', '2023-02-23', '2023-02-24', '2023-02-25',\n",
      "               '2023-02-26', '2023-02-27', '2023-02-28', '2023-03-01',\n",
      "               '2023-03-02', '2023-03-03', '2023-03-04', '2023-03-05',\n",
      "               '2023-03-06', '2023-03-07', '2023-03-08', '2023-03-09',\n",
      "               '2023-03-10', '2023-03-11', '2023-03-12', '2023-03-13',\n",
      "               '2023-03-14', '2023-03-15', '2023-03-16', '2023-03-17',\n",
      "               '2023-03-18', '2023-03-19', '2023-03-20', '2023-03-21',\n",
      "               '2023-03-22', '2023-03-23', '2023-03-24', '2023-03-25',\n",
      "               '2023-03-26', '2023-03-27', '2023-03-28', '2023-03-29',\n",
      "               '2023-03-30', '2023-03-31'],\n",
      "              dtype='datetime64[ns]', freq='D')\n"
     ]
    }
   ],
   "source": [
    "time_series = pd.date_range(start=\"2023-01-01\", end=\"2023-12-31\", freq=\"D\")\n",
    "january_to_march = time_series[:90]\n",
    "april_to_june = time_series[90:181]\n",
    "july_to_september = time_series[181:273]\n",
    "october_to_december = time_series[273:]\n",
    "print(\"january_to_march:\", january_to_march)"
   ]
  },
  {
   "cell_type": "code",
   "execution_count": 10,
   "metadata": {},
   "outputs": [
    {
     "name": "stdout",
     "output_type": "stream",
     "text": [
      "DataFrame from Array:\n",
      "           0         1         2         3         4\n",
      "0  0.533346  0.418986  0.983079  0.762448  0.905685\n",
      "1  0.357885  0.170705  0.422974  0.203675  0.513266\n",
      "2  0.272875  0.918079  0.752497  0.120952  0.697680\n",
      "3  0.038934  0.509580  0.495219  0.093692  0.614527\n",
      "4  0.874299  0.244340  0.224946  0.033011  0.850205\n",
      "Array from DataFrame:\n",
      " [[0.53334621 0.41898621 0.98307877 0.76244821 0.90568526]\n",
      " [0.35788473 0.17070545 0.42297391 0.20367458 0.51326644]\n",
      " [0.27287501 0.91807864 0.75249659 0.12095247 0.69767998]\n",
      " [0.03893385 0.50958029 0.49521856 0.09369204 0.61452702]\n",
      " [0.87429886 0.24434048 0.22494618 0.0330114  0.85020514]]\n"
     ]
    }
   ],
   "source": [
    "array = np.random.rand(5, 5)\n",
    "df_from_array = pd.DataFrame(array)\n",
    "array_from_df = df_from_array.to_numpy()\n",
    "print(\"DataFrame from Array:\\n\", df_from_array)\n",
    "print(\"Array from DataFrame:\\n\", array_from_df)"
   ]
  },
  {
   "cell_type": "code",
   "execution_count": 31,
   "metadata": {},
   "outputs": [
    {
     "data": {
      "image/png": "[encoded data removed]",
      "text/plain": [
       "<Figure size 432x288 with 1 Axes>"
      ]
     },
     "metadata": {
      "needs_background": "light"
     },
     "output_type": "display_data"
    }
   ],
   "source": [
    "x = np.linspace(0, 10, 100)\n",
    "y = np.sin(x)\n",
    "plt.plot(x, y, label=\"sin(x)\")\n",
    "plt.legend()\n",
    "plt.show()"
   ]
  }
 ],
 "metadata": {
  "kernelspec": {
   "display_name": "Python 3",
   "language": "python",
   "name": "python3"
  },
  "language_info": {
   "codemirror_mode": {
    "name": "ipython",
    "version": 3
   },
   "file_extension": ".py",
   "mimetype": "text/x-python",
   "name": "python",
   "nbconvert_exporter": "python",
   "pygments_lexer": "ipython3",
   "version": "3.7.4"
  }
 },
 "nbformat": 4,
 "nbformat_minor": 2
}
