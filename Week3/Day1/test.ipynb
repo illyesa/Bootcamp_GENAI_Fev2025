{
 "cells": [
  {
   "cell_type": "code",
   "execution_count": 1,
   "metadata": {},
   "outputs": [
    {
     "name": "stdout",
     "output_type": "stream",
     "text": [
      "Requirement already satisfied: numpy in d:\\anaconda3\\lib\\site-packages (1.21.6)\n",
      "Note: you may need to restart the kernel to use updated packages.\n"
     ]
    }
   ],
   "source": [
    "pip install numpy\n"
   ]
  },
  {
   "cell_type": "code",
   "execution_count": 2,
   "metadata": {},
   "outputs": [
    {
     "name": "stdout",
     "output_type": "stream",
     "text": [
      "1.21.6\n"
     ]
    }
   ],
   "source": [
    "import numpy as np\n",
    "print(np.__version__)"
   ]
  },
  {
   "cell_type": "code",
   "execution_count": 3,
   "metadata": {},
   "outputs": [
    {
     "name": "stdout",
     "output_type": "stream",
     "text": [
      "[1 2 3 4 5]\n"
     ]
    }
   ],
   "source": [
    "import numpy as np\n",
    "\n",
    "# Create a simple array\n",
    "my_array = np.array([1, 2, 3, 4, 5])\n",
    "print(my_array)"
   ]
  },
  {
   "cell_type": "code",
   "execution_count": 9,
   "metadata": {},
   "outputs": [
    {
     "name": "stdout",
     "output_type": "stream",
     "text": [
      "[[1 2 3]\n",
      " [4 5 6]]\n"
     ]
    }
   ],
   "source": [
    "my_array = np.array([1,2,3,4,5,6]).reshape(2,3)\n",
    "print(my_array)"
   ]
  },
  {
   "cell_type": "code",
   "execution_count": null,
   "metadata": {},
   "outputs": [
    {
     "name": "stdout",
     "output_type": "stream",
     "text": [
      "1D Array: [1 2 3 4]\n",
      "2D Array:\n",
      " [[1 2 3]\n",
      " [4 5 6]]\n",
      "Shape: (2, 3)\n",
      "Size: 6\n",
      "Data Type: int32\n"
     ]
    }
   ],
   "source": [
    "import numpy as np\n",
    "array_1 = np.array([1, 2, 3, 4])\n",
    "print(\"1D Array:\", array_1)\n",
    "\n",
    "\n",
    "array_2 = np.array([[1, 2, 3], [4, 5, 6]])\n",
    "print(\"2D Array:\\n\", array_2)\n",
    "\n",
    "print(\"Shape:\", array_2.shape)  # Expected Output: Shape: (2, 3) - 2 rows and 3 columns\n",
    "print(\"Size:\", array_2.size)   # Expected Output: Size: 6 - Total 6 elements\n",
    "print(\"Data Type:\", array_2.dtype)  # Expected Output: Data Type: int64 (or similar, depending on system)"
   ]
  },
  {
   "cell_type": "code",
   "execution_count": 14,
   "metadata": {},
   "outputs": [
    {
     "name": "stdout",
     "output_type": "stream",
     "text": [
      "1D Array: [1 2 3 4]\n",
      "(4,), 4, int32\n",
      "(2, 3), 6, int32\n",
      "[1. 2. 3.]\n",
      "float64\n"
     ]
    }
   ],
   "source": [
    "array_1 = np.array([1, 2, 3, 4])\n",
    "print(\"1D Array:\", array_1)\n",
    "array_2 = np.array([1, 2, 3, 4, 5, 6]).reshape(2, 3)\n",
    "print(f\"{array_1.shape}, {array_1.size}, {array_1.dtype}\")\n",
    "print(f\"{array_2.shape}, {array_2.size}, {array_2.dtype}\")\n",
    "\n",
    "array_float = np.arange(1, 4, dtype=float)\n",
    "dtype_float = array_float.dtype\n",
    "print(array_float)\n",
    "print(array_float.dtype)\n"
   ]
  },
  {
   "cell_type": "code",
   "execution_count": 17,
   "metadata": {},
   "outputs": [
    {
     "name": "stdout",
     "output_type": "stream",
     "text": [
      "[[ 1  2  3  4  5]\n",
      " [ 6  7  8  9 10]]\n",
      "[[[255   0 128]\n",
      "  [ 30 200  50]\n",
      "  [100 150 200]]\n",
      "\n",
      " [[ 75 180  90]\n",
      "  [220 110  60]\n",
      "  [ 45 130 190]]\n",
      "\n",
      " [[ 15 230  85]\n",
      "  [160  95 240]\n",
      "  [ 20 140 210]]]\n"
     ]
    }
   ],
   "source": [
    "\n",
    "temp = np.array([20, 23, 19, 18, 20, 21, 25])\n",
    "array_2 = np.arange(1,11).reshape(2,5)\n",
    "print(array_2)\n",
    "\n",
    "array_3 = np.array([[[255, 0, 128], [30, 200, 50], [100, 150, 200]], \n",
    "                    [[75, 180, 90], [220, 110, 60], [45, 130, 190]],\n",
    "                    [[15, 230, 85], [160, 95, 240], [20, 140, 210]]])\n",
    "print(array_3)\n"
   ]
  },
  {
   "cell_type": "code",
   "execution_count": 49,
   "metadata": {},
   "outputs": [
    {
     "name": "stdout",
     "output_type": "stream",
     "text": [
      "5\n",
      "[2 3 4 5 6 7]\n",
      "[44 39 44 43 35 16]\n",
      "[44 39 44 43 35]\n",
      "[39 43 16]\n"
     ]
    }
   ],
   "source": [
    "arr = np.arange(0,10)\n",
    "print(arr[5])\n",
    "print(arr[2:8])\n",
    "arr2 = np.random.randint(10,51,6)\n",
    "print(arr2)\n",
    "print(arr2[arr2>30])\n",
    "print(arr2[[1,3,5]])\n",
    "\n"
   ]
  },
  {
   "cell_type": "code",
   "execution_count": null,
   "metadata": {},
   "outputs": [],
   "source": []
  },
  {
   "cell_type": "code",
   "execution_count": 18,
   "metadata": {},
   "outputs": [
    {
     "name": "stdout",
     "output_type": "stream",
     "text": [
      "Element at row 1, column 2: 6\n",
      "Second row: [4 5 6]\n",
      "Third column: [3 6 9]\n"
     ]
    }
   ],
   "source": [
    "import numpy as np\n",
    "\n",
    "# Example 2D array\n",
    "array_2d = np.array([[1, 2, 3], [4, 5, 6], [7, 8, 9]])\n",
    "\n",
    "# Accessing a single element\n",
    "print(\"Element at row 1, column 2:\", array_2d[1, 2])  # Output: 6\n",
    "\n",
    "# Accessing a row\n",
    "print(\"Second row:\", array_2d[1, :])  # Output: [4 5 6]\n",
    "\n",
    "# Accessing a column\n",
    "print(\"Third column:\", array_2d[:, 2])  # Output: [3 6 9]"
   ]
  },
  {
   "cell_type": "code",
   "execution_count": 19,
   "metadata": {},
   "outputs": [
    {
     "name": "stdout",
     "output_type": "stream",
     "text": [
      "Slice of the array: [[2 3]\n",
      " [5 6]]\n"
     ]
    }
   ],
   "source": [
    "import numpy as np\n",
    "\n",
    "# Example 2D array\n",
    "array_2d = np.array([[1, 2, 3], [4, 5, 6], [7, 8, 9]])\n",
    "\n",
    "# Slicing a portion of the array\n",
    "print(\"Slice of the array:\", array_2d[0:2, 1:3])  # Output: [[2 3] [5 6]]"
   ]
  },
  {
   "cell_type": "code",
   "execution_count": 22,
   "metadata": {},
   "outputs": [
    {
     "name": "stdout",
     "output_type": "stream",
     "text": [
      "Result of Boolean Indexing: [4 5 6]\n"
     ]
    }
   ],
   "source": [
    "import numpy as np\n",
    "\n",
    "# Example array\n",
    "array = np.array([[1, 2], [3, 4], [5, 6]])\n",
    "\n",
    "# Boolean indexing\n",
    "result = array[array > 3]\n",
    "print(\"Result of Boolean Indexing:\", result)  # Output: [4 5 6], a 1D array"
   ]
  },
  {
   "cell_type": "code",
   "execution_count": 24,
   "metadata": {},
   "outputs": [
    {
     "name": "stdout",
     "output_type": "stream",
     "text": [
      "First element: 10\n",
      "First three elements: [10 20 30]\n",
      "Elements greater than 25: [30 40 50]\n",
      "Select specific elements: [20 40]\n"
     ]
    }
   ],
   "source": [
    "import numpy as np\n",
    "\n",
    "# Creating a sample array\n",
    "array = np.array([10, 20, 30, 40, 50])\n",
    "\n",
    "# Indexing (accessing a single element)\n",
    "print(\"First element:\", array[0])\n",
    "\n",
    "# Slicing (accessing multiple elements)\n",
    "print(\"First three elements:\", array[:3])\n",
    "\n",
    "# Boolean indexing\n",
    "print(\"Elements greater than 25:\", array[array > 25])\n",
    "\n",
    "# Fancy indexing (using a list of indices)\n",
    "print(\"Select specific elements:\", array[[1, 3]])"
   ]
  },
  {
   "cell_type": "code",
   "execution_count": 25,
   "metadata": {},
   "outputs": [
    {
     "name": "stdout",
     "output_type": "stream",
     "text": [
      "[36 38 43 44]\n"
     ]
    }
   ],
   "source": [
    "rand = np.random.randint(10, 50, 6)\n",
    "print(rand[rand>30])"
   ]
  },
  {
   "cell_type": "code",
   "execution_count": 26,
   "metadata": {},
   "outputs": [
    {
     "data": {
      "text/plain": [
       "array([1, 3, 6, 5, 4, 7, 2])"
      ]
     },
     "execution_count": 26,
     "metadata": {},
     "output_type": "execute_result"
    }
   ],
   "source": [
    "x = np.array([1, 2, 3, 4, 5, 6, 7])\n",
    "new = np.random.permutation(x)\n",
    "new"
   ]
  },
  {
   "cell_type": "code",
   "execution_count": 27,
   "metadata": {},
   "outputs": [
    {
     "data": {
      "text/plain": [
       "array([[3, 4],\n",
       "       [5, 6],\n",
       "       [1, 2]])"
      ]
     },
     "execution_count": 27,
     "metadata": {},
     "output_type": "execute_result"
    }
   ],
   "source": [
    "two = np.array([[1,2], [3,4], [5,6]])\n",
    "np.random.permutation(two)"
   ]
  },
  {
   "cell_type": "code",
   "execution_count": 32,
   "metadata": {},
   "outputs": [
    {
     "name": "stdout",
     "output_type": "stream",
     "text": [
      "[ 1  2 10  4  5]\n",
      "[ 1 20 30 40  5]\n",
      "[  1 100 100 100   5]\n",
      "[  1 500 100 500   5]\n",
      "[  1 600 100 500   5]\n"
     ]
    }
   ],
   "source": [
    "arr = np.array([1, 2, 3, 4, 5])\n",
    "arr[2] = 10  # Changing the third element\n",
    "print(arr)  # Output: [1, 2, 10, 4, 5]\n",
    "arr[1:4] = [20, 30, 40]\n",
    "print(arr)  # Output: [1, 20, 30, 40, 5]\n",
    "arr[arr > 10] = 100\n",
    "print(arr)  # Output: [1, 100, 100, 100, 5]\n",
    "arr[np.array([1, 3])] = 500\n",
    "print(arr)  # Output: [1, 500, 100, 500, 5]\n",
    "sub_arr = arr[1:3]\n",
    "sub_arr[0] = 600\n",
    "print(arr)  # Output: [1, 600, 100, 500, 5]"
   ]
  },
  {
   "cell_type": "code",
   "execution_count": 50,
   "metadata": {},
   "outputs": [
    {
     "name": "stdout",
     "output_type": "stream",
     "text": [
      "Addition: [5 7 9]\n",
      "Broadcasting with scalar: [3 6 9]\n"
     ]
    }
   ],
   "source": [
    "import numpy as np\n",
    "\n",
    "# Creating sample arrays\n",
    "a = np.array([1, 2, 3])\n",
    "b = np.array([4, 5, 6])\n",
    "\n",
    "# Element-wise addition\n",
    "print(\"Addition:\", a + b)\n",
    "\n",
    "# Broadcasting\n",
    "print(\"Broadcasting with scalar:\", a * 3)"
   ]
  },
  {
   "cell_type": "code",
   "execution_count": 51,
   "metadata": {},
   "outputs": [
    {
     "name": "stdout",
     "output_type": "stream",
     "text": [
      "Original Array: [1 2 3]\n",
      "After Adding 5: [6 7 8]\n"
     ]
    }
   ],
   "source": [
    "import numpy as np\n",
    "\n",
    "# Creating a 1D array\n",
    "a = np.array([1, 2, 3])\n",
    "\n",
    "# Adding a scalar value to the array\n",
    "result = a + 5\n",
    "\n",
    "print(\"Original Array:\", a)\n",
    "print(\"After Adding 5:\", result)"
   ]
  },
  {
   "cell_type": "code",
   "execution_count": 52,
   "metadata": {},
   "outputs": [
    {
     "name": "stdout",
     "output_type": "stream",
     "text": [
      "1D Array: [0 1 2]\n",
      "2D Array: [[0 1 2]\n",
      " [3 4 5]]\n",
      "Broadcasted Addition: [[0 2 4]\n",
      " [3 5 7]]\n"
     ]
    }
   ],
   "source": [
    "import numpy as np\n",
    "\n",
    "# Creating a 1D array and a 2D array\n",
    "a = np.array([0, 1, 2])\n",
    "b = np.array([[0, 1, 2], [3, 4, 5]])\n",
    "\n",
    "# Adding the 1D array to each row of the 2D array\n",
    "result = a + b\n",
    "\n",
    "print(\"1D Array:\", a)\n",
    "print(\"2D Array:\", b)\n",
    "print(\"Broadcasted Addition:\", result)"
   ]
  },
  {
   "cell_type": "code",
   "execution_count": 53,
   "metadata": {},
   "outputs": [
    {
     "name": "stdout",
     "output_type": "stream",
     "text": [
      "Array a: [[1]\n",
      " [2]\n",
      " [3]]\n",
      "Array b: [1 2 3]\n",
      "Broadcasted Addition: [[2 3 4]\n",
      " [3 4 5]\n",
      " [4 5 6]]\n"
     ]
    }
   ],
   "source": [
    "import numpy as np\n",
    "\n",
    "# Creating two arrays\n",
    "a = np.array([[1], [2], [3]])\n",
    "b = np.array([1, 2, 3])\n",
    "\n",
    "# Adding the two arrays\n",
    "result = a + b\n",
    "\n",
    "print(\"Array a:\", a)\n",
    "print(\"Array b:\", b)\n",
    "print(\"Broadcasted Addition:\", result)"
   ]
  },
  {
   "cell_type": "code",
   "execution_count": 54,
   "metadata": {},
   "outputs": [
    {
     "name": "stdout",
     "output_type": "stream",
     "text": [
      "Error: operands could not be broadcast together with shapes (2,3) (2,) \n"
     ]
    }
   ],
   "source": [
    "import numpy as np\n",
    "\n",
    "# Creating two incompatible arrays\n",
    "a = np.array([[1, 2, 3], [4, 5, 6]])\n",
    "b = np.array([1, 2])\n",
    "\n",
    "try:\n",
    "    result = a + b\n",
    "except ValueError as e:\n",
    "    print(\"Error:\", e)"
   ]
  },
  {
   "cell_type": "code",
   "execution_count": 56,
   "metadata": {},
   "outputs": [
    {
     "name": "stdout",
     "output_type": "stream",
     "text": [
      "2D Array: [[1 2 3]\n",
      " [4 5 6]]\n",
      "1D Array: [1 2 3]\n",
      "Broadcasted Multiplication: [[ 1  4  9]\n",
      " [ 4 10 18]]\n"
     ]
    }
   ],
   "source": [
    "import numpy as np\n",
    "\n",
    "# Creating a 2D array and a 1D array\n",
    "a = np.array([[1, 2, 3], [4, 5, 6]])\n",
    "b = np.array([1, 2, 3])\n",
    "\n",
    "# Element-wise multiplication\n",
    "result = a * b\n",
    "\n",
    "print(\"2D Array:\", a)\n",
    "print(\"1D Array:\", b)\n",
    "print(\"Broadcasted Multiplication:\", result)"
   ]
  },
  {
   "cell_type": "code",
   "execution_count": 57,
   "metadata": {},
   "outputs": [
    {
     "name": "stdout",
     "output_type": "stream",
     "text": [
      "Sum: 21\n",
      "Mean: 3.5\n",
      "Min: 1 Max: 6\n"
     ]
    }
   ],
   "source": [
    "# Creating a sample array\n",
    "array = np.array([[1, 2, 3], [4, 5, 6]])\n",
    "\n",
    "# Sum of all elements\n",
    "print(\"Sum:\", np.sum(array))\n",
    "\n",
    "# Mean value\n",
    "print(\"Mean:\", np.mean(array))\n",
    "\n",
    "# Minimum and Maximum\n",
    "print(\"Min:\", np.min(array), \"Max:\", np.max(array))"
   ]
  },
  {
   "cell_type": "code",
   "execution_count": 60,
   "metadata": {},
   "outputs": [
    {
     "name": "stdout",
     "output_type": "stream",
     "text": [
      "[17 39]\n"
     ]
    }
   ],
   "source": [
    "# Transposing for matrix multiplication\n",
    "A = np.array([[1, 2], [3, 4]])\n",
    "B = np.array([5, 6])\n",
    "product = A.dot(B.transpose())  # Transposing B to make multiplication possible\n",
    "print(product)"
   ]
  },
  {
   "cell_type": "code",
   "execution_count": 94,
   "metadata": {},
   "outputs": [
    {
     "name": "stdout",
     "output_type": "stream",
     "text": [
      "[[ 0  1  2]\n",
      " [ 3  4  5]\n",
      " [ 6  7  8]\n",
      " [ 9 10 11]]\n",
      "[[ 0  1  2  3  4  5]\n",
      " [ 6  7  8  9 10 11]]\n",
      "[[ 0  6]\n",
      " [ 1  7]\n",
      " [ 2  8]\n",
      " [ 3  9]\n",
      " [ 4 10]\n",
      " [ 5 11]]\n",
      "[ 0  3  6  9  1  4  7 10  2  5  8 11]\n"
     ]
    }
   ],
   "source": [
    "a=np.arange(12).reshape(4,3)\n",
    "print(a)\n",
    "b=a.reshape(2,6)\n",
    "print(b)\n",
    "c=b.T\n",
    "print(c)\n",
    "d=np.arange(12).reshape(4,3)\n",
    "e=d.T\n",
    "f=e.reshape(-1)\n",
    "print(f)"
   ]
  },
  {
   "cell_type": "code",
   "execution_count": 89,
   "metadata": {},
   "outputs": [
    {
     "name": "stdout",
     "output_type": "stream",
     "text": [
      "[[0.1583596  0.43950998 0.55363387 0.1468714  0.1507317  0.35877406\n",
      "  0.10078998]\n",
      " [0.09211218 0.33695886 0.15356701 0.90084859 0.78185883 0.78737568\n",
      "  0.32506927]\n",
      " [0.36692893 0.03940257 0.16634402 0.6426909  0.01176864 0.27350513\n",
      "  0.85067729]\n",
      " [0.00207711 0.26060525 0.79766036 0.91454643 0.8200808  0.24152564\n",
      "  0.71570317]\n",
      " [0.8523483  0.06743114 0.14186367 0.28723553 0.18015641 0.82963314\n",
      "  0.26781749]\n",
      " [0.46113428 0.25151186 0.34816995 0.63170684 0.9589562  0.515122\n",
      "  0.51438443]\n",
      " [0.1855366  0.71232343 0.15351775 0.90642855 0.56605032 0.06266672\n",
      "  0.72263754]\n",
      " [0.59676023 0.03882226 0.36908257 0.33669353 0.06424504 0.99600151\n",
      "  0.28558942]\n",
      " [0.28109505 0.67620217 0.04470024 0.85062024 0.4183726  0.28386575\n",
      "  0.59365908]\n",
      " [0.73588211 0.812215   0.2313995  0.92620144 0.46847621 0.90475878\n",
      "  0.23891204]\n",
      " [0.47119046 0.73515084 0.74941821 0.97958895 0.10274748 0.8252567\n",
      "  0.19756791]\n",
      " [0.45821031 0.10369958 0.84679815 0.44684072 0.03459864 0.30194262\n",
      "  0.55658393]\n",
      " [0.49463518 0.67537755 0.21421288 0.78154685 0.99684891 0.24486261\n",
      "  0.56650467]\n",
      " [0.54000825 0.63338031 0.41582382 0.14293959 0.01610695 0.56168207\n",
      "  0.88582921]\n",
      " [0.73845188 0.82174281 0.25444351 0.61079949 0.96178715 0.60679912\n",
      "  0.1951324 ]\n",
      " [0.03461199 0.51704371 0.54846904 0.2825049  0.79315773 0.03674525\n",
      "  0.2777267 ]\n",
      " [0.7729995  0.85878961 0.19770851 0.92079728 0.96342082 0.94743426\n",
      "  0.19680056]\n",
      " [0.44998753 0.27894626 0.60964101 0.75336051 0.0121311  0.33939324\n",
      "  0.75350323]\n",
      " [0.7015123  0.45377235 0.69687754 0.08870092 0.26787842 0.86577928\n",
      "  0.30344269]\n",
      " [0.18671919 0.64265922 0.96528093 0.35876922 0.50086718 0.94128244\n",
      "  0.7759501 ]\n",
      " [0.98409929 0.97992312 0.90798325 0.26192946 0.63069885 0.86801902\n",
      "  0.96040861]\n",
      " [0.29068784 0.48239876 0.35797986 0.05197293 0.53775391 0.32003143\n",
      "  0.78665196]\n",
      " [0.40837582 0.78433082 0.43315506 0.13486497 0.46865524 0.70322624\n",
      "  0.73795611]\n",
      " [0.35798927 0.61469024 0.18415082 0.0828777  0.67113689 0.20571992\n",
      "  0.44668617]\n",
      " [0.46239728 0.80202741 0.78311291 0.01650423 0.64538897 0.43126066\n",
      "  0.08295328]\n",
      " [0.54006401 0.69111274 0.94944966 0.58725312 0.60661099 0.46329362\n",
      "  0.08328656]\n",
      " [0.71352843 0.59091323 0.74324144 0.78908214 0.71963409 0.81016924\n",
      "  0.70439267]\n",
      " [0.01954792 0.93053502 0.9476216  0.2723247  0.99364588 0.93986439\n",
      "  0.27275564]\n",
      " [0.29651444 0.00734186 0.95029724 0.65984613 0.88388306 0.19881919\n",
      "  0.7614687 ]\n",
      " [0.60748847 0.502078   0.3810827  0.82139399 0.85244814 0.95956144\n",
      "  0.60369843]\n",
      " [0.16978175 0.8872029  0.34219056 0.34204791 0.07152915 0.60021121\n",
      "  0.77601637]\n",
      " [0.85799344 0.26519472 0.25154043 0.54027432 0.86821899 0.12696309\n",
      "  0.88486917]\n",
      " [0.40140222 0.78061082 0.40189667 0.90440686 0.54870651 0.26269293\n",
      "  0.457673  ]\n",
      " [0.10487987 0.81705696 0.91642268 0.91788307 0.68281854 0.33839099\n",
      "  0.63642834]\n",
      " [0.90165334 0.29130898 0.65856708 0.68917123 0.33589266 0.10808321\n",
      "  0.73271372]\n",
      " [0.99720104 0.83699036 0.77085124 0.02107725 0.17892725 0.1969393\n",
      "  0.25612828]\n",
      " [0.94157127 0.33669283 0.26220185 0.33857583 0.80728761 0.59281727\n",
      "  0.94062311]\n",
      " [0.87999393 0.43437121 0.94282084 0.42996362 0.37100435 0.89085971\n",
      "  0.86199243]\n",
      " [0.80396981 0.20095087 0.96944574 0.68297244 0.20871855 0.23224684\n",
      "  0.94241258]\n",
      " [0.44652899 0.78350382 0.40806107 0.40496931 0.9505174  0.02214815\n",
      "  0.87037679]\n",
      " [0.87178958 0.05835691 0.95078544 0.82538478 0.25827044 0.92626357\n",
      "  0.03942908]\n",
      " [0.0469905  0.12301499 0.3854432  0.35753091 0.62357705 0.58994195\n",
      "  0.28045403]\n",
      " [0.19735494 0.43853137 0.28636513 0.33793678 0.11841139 0.71801111\n",
      "  0.16238202]\n",
      " [0.33165581 0.25021008 0.65750159 0.12299443 0.14731475 0.29779467\n",
      "  0.05467465]\n",
      " [0.63056561 0.06376018 0.75423595 0.0499644  0.76125411 0.66715132\n",
      "  0.72874936]\n",
      " [0.42051066 0.81374412 0.93599726 0.64178426 0.17175128 0.97787421\n",
      "  0.58053857]\n",
      " [0.81513141 0.32082406 0.28607296 0.52185557 0.87394306 0.50684022\n",
      "  0.9915938 ]\n",
      " [0.3187877  0.22562134 0.53283169 0.40641767 0.89870051 0.19151205\n",
      "  0.16899147]\n",
      " [0.47661403 0.34269496 0.54342929 0.01794198 0.99765769 0.31415251\n",
      "  0.30175422]\n",
      " [0.18251217 0.64346289 0.88613293 0.36713306 0.75238061 0.38802318\n",
      "  0.8917871 ]\n",
      " [0.25971871 0.66371184 0.14366446 0.61967846 0.3038371  0.50509659\n",
      "  0.03664941]\n",
      " [0.77809279 0.30894898 0.97467416 0.64552346 0.04149365 0.35152593\n",
      "  0.12825262]]\n"
     ]
    }
   ],
   "source": [
    "# Reshaping data for time-series analysis\n",
    "time_series_data = np.random.rand(364)  # Daily data for a year\n",
    "reshaped_for_analysis = time_series_data.reshape(52, 7)  # Weekly data, 7 days a week\n",
    "print(reshaped_for_analysis)"
   ]
  }
 ],
 "metadata": {
  "kernelspec": {
   "display_name": "Python 3",
   "language": "python",
   "name": "python3"
  },
  "language_info": {
   "codemirror_mode": {
    "name": "ipython",
    "version": 3
   },
   "file_extension": ".py",
   "mimetype": "text/x-python",
   "name": "python",
   "nbconvert_exporter": "python",
   "pygments_lexer": "ipython3",
   "version": "3.7.4"
  }
 },
 "nbformat": 4,
 "nbformat_minor": 2
}
